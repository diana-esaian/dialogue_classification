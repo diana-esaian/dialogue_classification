{
  "nbformat": 4,
  "nbformat_minor": 0,
  "metadata": {
    "colab": {
      "provenance": []
    },
    "kernelspec": {
      "name": "python3",
      "display_name": "Python 3"
    },
    "language_info": {
      "name": "python"
    }
  },
  "cells": [
    {
      "cell_type": "code",
      "execution_count": 1,
      "metadata": {
        "id": "UjUdXRx6LKuF"
      },
      "outputs": [],
      "source": [
        "with open('/content/Palata_6.txt') as f:\n",
        "  book = f.read()"
      ]
    },
    {
      "cell_type": "code",
      "source": [
        "import re "
      ],
      "metadata": {
        "id": "tKAEmF7UMdf7"
      },
      "execution_count": 3,
      "outputs": []
    },
    {
      "cell_type": "code",
      "source": [
        "paragraphs = '\\\\n.? ?[А-Я]+.*?\\\\n'"
      ],
      "metadata": {
        "id": "-gq5UVV3PkYt"
      },
      "execution_count": 4,
      "outputs": []
    },
    {
      "cell_type": "code",
      "source": [
        "all_paragraphs = re.findall(paragraphs, book)"
      ],
      "metadata": {
        "id": "BMnvxuPePnn-"
      },
      "execution_count": 5,
      "outputs": []
    },
    {
      "cell_type": "code",
      "source": [
        "replica_pattern_1 ='– ?[А-Я].*?[(!)+|(?)+|.|,|...|…|..|!?|?!|?!?|!?!|!..|?..](?= – [а-я]?[А-Я]?.*?[(!)+|(?)+|.|...|…|..|!?|?!|?!?|!?!|!..|?..])'"
      ],
      "metadata": {
        "id": "uZteLqrvG-Zl"
      },
      "execution_count": 6,
      "outputs": []
    },
    {
      "cell_type": "code",
      "source": [
        "prep_for_pattern_2 = '– ?[А-Я].*?[(!)+|(?)+|.|,|...|…|..|!?|?!|?!?|!?!|!..|?..] – [а-я]?[А-Я]?.*?[(!)+|(?)+|.|,|...|…|..|!?|?!|?!?|!?!|!..|?..]'"
      ],
      "metadata": {
        "id": "lIvBvwQFQK2L"
      },
      "execution_count": 7,
      "outputs": []
    },
    {
      "cell_type": "code",
      "source": [
        "# formatting is required\n",
        "replica_pattern_2 = '(?<={prepared}) ?– ?.*[(!)+|(?)+|.|...|…|..|!?|?!|?!?|!?!|!..|,|?..]'"
      ],
      "metadata": {
        "id": "ewQGBpICLqQo"
      },
      "execution_count": 8,
      "outputs": []
    },
    {
      "cell_type": "code",
      "source": [
        "# if the previous ones do not extract any, try this\n",
        "replica_pattern_3 = '\\\\n ?– ?[А-Я].*?\\\\n'"
      ],
      "metadata": {
        "id": "3IJTX7XBRCzv"
      },
      "execution_count": 9,
      "outputs": []
    },
    {
      "cell_type": "code",
      "source": [
        "replica_pattern_4 = '«.*?[(!)+|(?)+|.|,|...|…|..|!?|?!|?!?|!?!|!..|?..](?= ?– ?[а-я]?[А-Я]?.*? ?– .*?»)'"
      ],
      "metadata": {
        "id": "aL-9t_dYoMZL"
      },
      "execution_count": 10,
      "outputs": []
    },
    {
      "cell_type": "code",
      "source": [
        "prep_for_pattern_5 = '«.*?[(!)+|(?)+|.|,|...|…|..|!?|?!|?!?|!?!|!..|?..] ?– ?[а-я]?[А-Я]?.*? ?–'"
      ],
      "metadata": {
        "id": "gFrCBXDcY6Ee"
      },
      "execution_count": 11,
      "outputs": []
    },
    {
      "cell_type": "code",
      "source": [
        "# requires formatting\n",
        "replica_pattern_5 = '(?<={prepared}).*?»'"
      ],
      "metadata": {
        "id": "YfTWes9dZfgh"
      },
      "execution_count": 12,
      "outputs": []
    },
    {
      "cell_type": "code",
      "source": [
        "replica_pattern_6 = '«.*?»(?= ?–)'"
      ],
      "metadata": {
        "id": "nTq5lvqUaUIF"
      },
      "execution_count": 13,
      "outputs": []
    },
    {
      "cell_type": "code",
      "source": [
        "replica_pattern_7 = '(?<=:) ?«.*?»'"
      ],
      "metadata": {
        "id": "IcQHKIw9bf5J"
      },
      "execution_count": 14,
      "outputs": []
    },
    {
      "cell_type": "code",
      "source": [
        "# if the previous ones do not extract any, try this one\n",
        "replica_pattern_8 = '\\\\n«.*?» *\\\\n'"
      ],
      "metadata": {
        "id": "QdJBZXFucYCo"
      },
      "execution_count": 15,
      "outputs": []
    },
    {
      "cell_type": "code",
      "source": [
        "dialogues = []"
      ],
      "metadata": {
        "id": "7LJEmRfPf8dN"
      },
      "execution_count": 16,
      "outputs": []
    },
    {
      "cell_type": "code",
      "source": [
        "for paragraph in all_paragraphs:\n",
        "  # replicas starting with -\n",
        "  replicas_1 = re.findall(replica_pattern_1, paragraph)\n",
        "  replicas_2_all = []\n",
        "  if len(replicas_1) != 0:\n",
        "    dialogues = dialogues + replicas_1\n",
        "    prep_for_2 = re.findall(prep_for_pattern_2, paragraph)\n",
        "    for i in prep_for_2:\n",
        "      pattern = i\n",
        "      pattern = pattern.replace('.','\\.')\n",
        "      pattern = pattern.replace('?','\\?')\n",
        "      pattern = pattern.replace('*','\\*')\n",
        "      pattern = pattern.replace('+','\\+')\n",
        "      pattern = pattern.replace('(','\\(')\n",
        "      pattern = pattern.replace(')','\\)')\n",
        "      pattern = pattern.replace('[','\\[')\n",
        "      pattern = pattern.replace(']','\\]')\n",
        "      replicas_2 = re.findall(replica_pattern_2.format(prepared = pattern), paragraph)\n",
        "      if len(replicas_2) != 0:\n",
        "        replicas_2_all = replicas_2_all + replicas_2\n",
        "    if len(replicas_2_all) != 0:\n",
        "      dialogues = dialogues + replicas_2_all\n",
        "  else: \n",
        "    replicas_3 = re.findall(replica_pattern_3, paragraph)\n",
        "    if len(replicas_3) != 0:\n",
        "      dialogues = dialogues + replicas_3\n",
        "    # replicas with «»\n",
        "    else:\n",
        "      replicas_4 = re.findall(replica_pattern_4, paragraph)\n",
        "      replicas_5_all = []\n",
        "      if len(replicas_4) != 0:\n",
        "        dialogues = dialogues + replicas_4\n",
        "        prep_for_5 = re.findall(prep_for_pattern_5, paragraph)\n",
        "        for i in prep_for_5:\n",
        "          pattern = i\n",
        "          pattern = pattern.replace('.','\\.')\n",
        "          pattern = pattern.replace('?','\\?')\n",
        "          pattern = pattern.replace('*','\\*')\n",
        "          pattern = pattern.replace('+','\\+')\n",
        "          pattern = pattern.replace('(','\\(')\n",
        "          pattern = pattern.replace(')','\\)')\n",
        "          pattern = pattern.replace('[','\\[')\n",
        "          pattern = pattern.replace(']','\\]')\n",
        "          replicas_5 = re.findall(replica_pattern_5.format(prepared = pattern), paragraph)\n",
        "          if len(replicas_5) != 0:\n",
        "            replicas_5_all = replicas_5_all + replicas_5\n",
        "      if len(replicas_5_all) != 0:\n",
        "        dialogues = dialogues + replicas_5_all\n",
        "      replicas_6 = re.findall(replica_pattern_6, paragraph)\n",
        "      if len(replicas_6) != 0:\n",
        "        dialogues = dialogues + replicas_6\n",
        "      replicas_7 = re.findall(replica_pattern_7, paragraph)\n",
        "      if len(replicas_7) != 0:\n",
        "        dialogues = dialogues + replicas_7\n",
        "      if len(replicas_7) == 0 and len(replicas_6) == 0:\n",
        "        replicas_8 = re.findall(replica_pattern_8, paragraph)\n",
        "        if len(replicas_8) != 0:\n",
        "          dialogues = dialogues + replicas_8"
      ],
      "metadata": {
        "id": "Dy3GVLdxdm9n"
      },
      "execution_count": 17,
      "outputs": []
    },
    {
      "cell_type": "code",
      "source": [
        "dialogues"
      ],
      "metadata": {
        "id": "5s80joulkUiq"
      },
      "execution_count": null,
      "outputs": []
    }
  ]
}