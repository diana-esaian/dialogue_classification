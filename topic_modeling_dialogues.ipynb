{
  "nbformat": 4,
  "nbformat_minor": 0,
  "metadata": {
    "colab": {
      "provenance": []
    },
    "kernelspec": {
      "name": "python3",
      "display_name": "Python 3"
    },
    "language_info": {
      "name": "python"
    }
  },
  "cells": [
    {
      "cell_type": "markdown",
      "source": [
        "# Dataset with extracted dialogues"
      ],
      "metadata": {
        "id": "Q3S39LsIzaOu"
      }
    },
    {
      "cell_type": "code",
      "source": [
        "import pandas as pd"
      ],
      "metadata": {
        "id": "9f7qOHBWcfVf"
      },
      "execution_count": 3,
      "outputs": []
    },
    {
      "cell_type": "code",
      "source": [
        "dataset = pd.read_csv('/content/drive/MyDrive/masters/try/last dataset/edited_dataset.csv')"
      ],
      "metadata": {
        "id": "mlhiE1S7dNPH"
      },
      "execution_count": 4,
      "outputs": []
    },
    {
      "cell_type": "code",
      "source": [
        "dataset.head()"
      ],
      "metadata": {
        "colab": {
          "base_uri": "https://localhost:8080/",
          "height": 354
        },
        "id": "hhY6f0DMdSfb",
        "outputId": "d39eb5cc-4cb9-421e-f95c-c6fb586707cd"
      },
      "execution_count": 29,
      "outputs": [
        {
          "output_type": "execute_result",
          "data": {
            "text/plain": [
              "   Unnamed: 0.1  Unnamed: 0       author                         book  \\\n",
              "0             0           0  akhsharumov                kontsy_v_vodu   \n",
              "1             1           1      aksakov  detskiye_gody_bagrova_vnuka   \n",
              "2             2           2      aksakov           semeynaya_khronika   \n",
              "3             3           3    alekseyev                   igra_sudby   \n",
              "4             4           4    alekseyev                lzhetsarevich   \n",
              "\n",
              "   book_wordcount                                          dialogues  \\\n",
              "0           69732  ['– Не нужно,', '– Пустяки!', ' – Большая част...   \n",
              "1           98025  [' \"Ах, какое солнышко! Как хорошо пахнет!\"', ...   \n",
              "2           70647  [' \"А что, знаком, добрый человек, давай говор...   \n",
              "3           67910  ['\"что-то\" сказывалось во всем: и в его ухарск...   \n",
              "4           67909  ['\"что-то\" сказывалось во всем: и в его ухарск...   \n",
              "\n",
              "   dialogues_wordcout     ratio  \n",
              "0               21065  0.302085  \n",
              "1               16957  0.172986  \n",
              "2                7701  0.109007  \n",
              "3               21915  0.322707  \n",
              "4               21915  0.322711  "
            ],
            "text/html": [
              "\n",
              "  <div id=\"df-83b41546-6393-424e-918c-26989b90f3e9\">\n",
              "    <div class=\"colab-df-container\">\n",
              "      <div>\n",
              "<style scoped>\n",
              "    .dataframe tbody tr th:only-of-type {\n",
              "        vertical-align: middle;\n",
              "    }\n",
              "\n",
              "    .dataframe tbody tr th {\n",
              "        vertical-align: top;\n",
              "    }\n",
              "\n",
              "    .dataframe thead th {\n",
              "        text-align: right;\n",
              "    }\n",
              "</style>\n",
              "<table border=\"1\" class=\"dataframe\">\n",
              "  <thead>\n",
              "    <tr style=\"text-align: right;\">\n",
              "      <th></th>\n",
              "      <th>Unnamed: 0.1</th>\n",
              "      <th>Unnamed: 0</th>\n",
              "      <th>author</th>\n",
              "      <th>book</th>\n",
              "      <th>book_wordcount</th>\n",
              "      <th>dialogues</th>\n",
              "      <th>dialogues_wordcout</th>\n",
              "      <th>ratio</th>\n",
              "    </tr>\n",
              "  </thead>\n",
              "  <tbody>\n",
              "    <tr>\n",
              "      <th>0</th>\n",
              "      <td>0</td>\n",
              "      <td>0</td>\n",
              "      <td>akhsharumov</td>\n",
              "      <td>kontsy_v_vodu</td>\n",
              "      <td>69732</td>\n",
              "      <td>['– Не нужно,', '– Пустяки!', ' – Большая част...</td>\n",
              "      <td>21065</td>\n",
              "      <td>0.302085</td>\n",
              "    </tr>\n",
              "    <tr>\n",
              "      <th>1</th>\n",
              "      <td>1</td>\n",
              "      <td>1</td>\n",
              "      <td>aksakov</td>\n",
              "      <td>detskiye_gody_bagrova_vnuka</td>\n",
              "      <td>98025</td>\n",
              "      <td>[' \"Ах, какое солнышко! Как хорошо пахнет!\"', ...</td>\n",
              "      <td>16957</td>\n",
              "      <td>0.172986</td>\n",
              "    </tr>\n",
              "    <tr>\n",
              "      <th>2</th>\n",
              "      <td>2</td>\n",
              "      <td>2</td>\n",
              "      <td>aksakov</td>\n",
              "      <td>semeynaya_khronika</td>\n",
              "      <td>70647</td>\n",
              "      <td>[' \"А что, знаком, добрый человек, давай говор...</td>\n",
              "      <td>7701</td>\n",
              "      <td>0.109007</td>\n",
              "    </tr>\n",
              "    <tr>\n",
              "      <th>3</th>\n",
              "      <td>3</td>\n",
              "      <td>3</td>\n",
              "      <td>alekseyev</td>\n",
              "      <td>igra_sudby</td>\n",
              "      <td>67910</td>\n",
              "      <td>['\"что-то\" сказывалось во всем: и в его ухарск...</td>\n",
              "      <td>21915</td>\n",
              "      <td>0.322707</td>\n",
              "    </tr>\n",
              "    <tr>\n",
              "      <th>4</th>\n",
              "      <td>4</td>\n",
              "      <td>4</td>\n",
              "      <td>alekseyev</td>\n",
              "      <td>lzhetsarevich</td>\n",
              "      <td>67909</td>\n",
              "      <td>['\"что-то\" сказывалось во всем: и в его ухарск...</td>\n",
              "      <td>21915</td>\n",
              "      <td>0.322711</td>\n",
              "    </tr>\n",
              "  </tbody>\n",
              "</table>\n",
              "</div>\n",
              "      <button class=\"colab-df-convert\" onclick=\"convertToInteractive('df-83b41546-6393-424e-918c-26989b90f3e9')\"\n",
              "              title=\"Convert this dataframe to an interactive table.\"\n",
              "              style=\"display:none;\">\n",
              "        \n",
              "  <svg xmlns=\"http://www.w3.org/2000/svg\" height=\"24px\"viewBox=\"0 0 24 24\"\n",
              "       width=\"24px\">\n",
              "    <path d=\"M0 0h24v24H0V0z\" fill=\"none\"/>\n",
              "    <path d=\"M18.56 5.44l.94 2.06.94-2.06 2.06-.94-2.06-.94-.94-2.06-.94 2.06-2.06.94zm-11 1L8.5 8.5l.94-2.06 2.06-.94-2.06-.94L8.5 2.5l-.94 2.06-2.06.94zm10 10l.94 2.06.94-2.06 2.06-.94-2.06-.94-.94-2.06-.94 2.06-2.06.94z\"/><path d=\"M17.41 7.96l-1.37-1.37c-.4-.4-.92-.59-1.43-.59-.52 0-1.04.2-1.43.59L10.3 9.45l-7.72 7.72c-.78.78-.78 2.05 0 2.83L4 21.41c.39.39.9.59 1.41.59.51 0 1.02-.2 1.41-.59l7.78-7.78 2.81-2.81c.8-.78.8-2.07 0-2.86zM5.41 20L4 18.59l7.72-7.72 1.47 1.35L5.41 20z\"/>\n",
              "  </svg>\n",
              "      </button>\n",
              "      \n",
              "  <style>\n",
              "    .colab-df-container {\n",
              "      display:flex;\n",
              "      flex-wrap:wrap;\n",
              "      gap: 12px;\n",
              "    }\n",
              "\n",
              "    .colab-df-convert {\n",
              "      background-color: #E8F0FE;\n",
              "      border: none;\n",
              "      border-radius: 50%;\n",
              "      cursor: pointer;\n",
              "      display: none;\n",
              "      fill: #1967D2;\n",
              "      height: 32px;\n",
              "      padding: 0 0 0 0;\n",
              "      width: 32px;\n",
              "    }\n",
              "\n",
              "    .colab-df-convert:hover {\n",
              "      background-color: #E2EBFA;\n",
              "      box-shadow: 0px 1px 2px rgba(60, 64, 67, 0.3), 0px 1px 3px 1px rgba(60, 64, 67, 0.15);\n",
              "      fill: #174EA6;\n",
              "    }\n",
              "\n",
              "    [theme=dark] .colab-df-convert {\n",
              "      background-color: #3B4455;\n",
              "      fill: #D2E3FC;\n",
              "    }\n",
              "\n",
              "    [theme=dark] .colab-df-convert:hover {\n",
              "      background-color: #434B5C;\n",
              "      box-shadow: 0px 1px 3px 1px rgba(0, 0, 0, 0.15);\n",
              "      filter: drop-shadow(0px 1px 2px rgba(0, 0, 0, 0.3));\n",
              "      fill: #FFFFFF;\n",
              "    }\n",
              "  </style>\n",
              "\n",
              "      <script>\n",
              "        const buttonEl =\n",
              "          document.querySelector('#df-83b41546-6393-424e-918c-26989b90f3e9 button.colab-df-convert');\n",
              "        buttonEl.style.display =\n",
              "          google.colab.kernel.accessAllowed ? 'block' : 'none';\n",
              "\n",
              "        async function convertToInteractive(key) {\n",
              "          const element = document.querySelector('#df-83b41546-6393-424e-918c-26989b90f3e9');\n",
              "          const dataTable =\n",
              "            await google.colab.kernel.invokeFunction('convertToInteractive',\n",
              "                                                     [key], {});\n",
              "          if (!dataTable) return;\n",
              "\n",
              "          const docLinkHtml = 'Like what you see? Visit the ' +\n",
              "            '<a target=\"_blank\" href=https://colab.research.google.com/notebooks/data_table.ipynb>data table notebook</a>'\n",
              "            + ' to learn more about interactive tables.';\n",
              "          element.innerHTML = '';\n",
              "          dataTable['output_type'] = 'display_data';\n",
              "          await google.colab.output.renderOutput(dataTable, element);\n",
              "          const docLink = document.createElement('div');\n",
              "          docLink.innerHTML = docLinkHtml;\n",
              "          element.appendChild(docLink);\n",
              "        }\n",
              "      </script>\n",
              "    </div>\n",
              "  </div>\n",
              "  "
            ]
          },
          "metadata": {},
          "execution_count": 29
        }
      ]
    },
    {
      "cell_type": "markdown",
      "source": [
        "# Import libraries "
      ],
      "metadata": {
        "id": "01hCeCzJzhDz"
      }
    },
    {
      "cell_type": "code",
      "source": [
        "pip install natasha"
      ],
      "metadata": {
        "id": "vi7gTrLdbsXY"
      },
      "execution_count": null,
      "outputs": []
    },
    {
      "cell_type": "code",
      "source": [
        "pip install pymorphy2"
      ],
      "metadata": {
        "id": "KgAVHSDFbxs_"
      },
      "execution_count": null,
      "outputs": []
    },
    {
      "cell_type": "code",
      "source": [
        "from nltk.tokenize import word_tokenize \n",
        "from nltk import download as nltk_download \n",
        "nltk_download ('punkt')"
      ],
      "metadata": {
        "colab": {
          "base_uri": "https://localhost:8080/"
        },
        "id": "7awMQpLvzCxq",
        "outputId": "8e9b87c5-e8d5-43b8-891a-62fc2785948b"
      },
      "execution_count": 30,
      "outputs": [
        {
          "output_type": "stream",
          "name": "stderr",
          "text": [
            "[nltk_data] Downloading package punkt to /root/nltk_data...\n",
            "[nltk_data]   Unzipping tokenizers/punkt.zip.\n"
          ]
        },
        {
          "output_type": "execute_result",
          "data": {
            "text/plain": [
              "True"
            ]
          },
          "metadata": {},
          "execution_count": 30
        }
      ]
    },
    {
      "cell_type": "code",
      "source": [
        "from natasha import (Segmenter, MorphVocab, NewsEmbedding, NewsMorphTagger, NewsSyntaxParser, NewsNERTagger, Doc)\n",
        "segmenter = Segmenter()\n",
        "morph_vocab = MorphVocab()\n",
        "emb = NewsEmbedding()\n",
        "morph_tagger = NewsMorphTagger(emb)\n",
        "syntax_parser = NewsSyntaxParser(emb)\n",
        "ner_tagger = NewsNERTagger(emb)"
      ],
      "metadata": {
        "id": "mvaf2b-6zQhZ"
      },
      "execution_count": 32,
      "outputs": []
    },
    {
      "cell_type": "code",
      "source": [
        "from pymorphy2 import MorphAnalyzer\n",
        "parser = MorphAnalyzer()"
      ],
      "metadata": {
        "id": "rgLGPLsVzRnR"
      },
      "execution_count": 33,
      "outputs": []
    },
    {
      "cell_type": "code",
      "source": [
        "import gensim\n",
        "import re"
      ],
      "metadata": {
        "id": "pGvmft9-ztPH"
      },
      "execution_count": 34,
      "outputs": []
    },
    {
      "cell_type": "markdown",
      "source": [
        "# Initial black list"
      ],
      "metadata": {
        "id": "0QUHoyLezzDw"
      }
    },
    {
      "cell_type": "code",
      "source": [
        "!wget https://raw.githubusercontent.com/dhhse/dh2020/master/data/stop_ru.txt\n",
        "with open ('stop_ru.txt', 'r') as stop_file:\n",
        "    rus_stops = [word.strip() for word in stop_file.readlines()]"
      ],
      "metadata": {
        "id": "rSwdrXXXzIFI"
      },
      "execution_count": null,
      "outputs": []
    },
    {
      "cell_type": "code",
      "source": [
        "punctuation = '!\\\"#$%&\\'()*+,-./:;<=>?@[\\]^_`{|}~—»«...–'\n"
      ],
      "metadata": {
        "id": "RYJeFPnTz1IX"
      },
      "execution_count": 35,
      "outputs": []
    },
    {
      "cell_type": "markdown",
      "source": [
        "# Topic Modeling"
      ],
      "metadata": {
        "id": "6qZkP1cdz7tV"
      }
    },
    {
      "cell_type": "code",
      "source": [
        "def preprocess(input_text):\n",
        "    tokenized_text = word_tokenize(input_text.lower())\n",
        "    output_text = [word for word in tokenized_text if word not in filters]\n",
        "    clean_text = [word for word in output_text if word.isalpha()]\n",
        "    lemmatized_text = [parser.parse(word)[0].normal_form for word in clean_text]\n",
        "    return lemmatized_text"
      ],
      "metadata": {
        "id": "46uC54Tr1u6H"
      },
      "execution_count": 44,
      "outputs": []
    },
    {
      "cell_type": "code",
      "source": [
        "authors = []\n",
        "titles = []\n",
        "topics = []"
      ],
      "metadata": {
        "id": "guOei5EnfXMj"
      },
      "execution_count": 7,
      "outputs": []
    },
    {
      "cell_type": "code",
      "source": [
        "for index in range(len(dataset['dialogues'].tolist())):\n",
        "  text = dataset['dialogues'].tolist()[index]\n",
        "  text_list = []\n",
        "  text_list.append(text)\n",
        "  doc_natasha = Doc(text)\n",
        "  doc_natasha.segment(segmenter)\n",
        "  doc_natasha.tag_morph(morph_tagger)\n",
        "  doc_natasha.parse_syntax(syntax_parser)\n",
        "  doc_natasha.tag_ner(ner_tagger)\n",
        "\n",
        "  names = []\n",
        "  for span in doc_natasha.spans:\n",
        "    if span.type == 'PER':\n",
        "      if span.text not in names:\n",
        "        names.append(span.text)\n",
        "      span.normalize(morph_vocab)\n",
        "      if span.normal not in names:\n",
        "        names.append(span.normal)\n",
        "  filters = rus_stops + list(punctuation)\n",
        "  for name in names:\n",
        "    word = name.lower()\n",
        "    filters = filters + word.split(' ')\n",
        "  \n",
        "  preprocessed_texts = [preprocess(text_t) for text_t in text_list]\n",
        "  gensim_dictionary_for_TM = gensim.corpora.Dictionary(preprocessed_texts)\n",
        "  gensim_dictionary_for_TM.compactify()\n",
        "  corpus = [gensim_dictionary_for_TM.doc2bow(text_p) for text_p in preprocessed_texts]\n",
        "  lda = gensim.models.LdaMulticore(corpus,num_topics = 10, id2word=gensim_dictionary_for_TM, passes=10)\n",
        "  topics_book = []\n",
        "  for topic in lda.print_topics():\n",
        "    topic_extracted = re.findall(r'(?<=\")\\w.*?(?=\")', topic[1])\n",
        "    for i in topic_extracted:\n",
        "      if i not in topics_book:\n",
        "        topics_book.append(i)\n",
        "  \n",
        "  author = dataset['author'].tolist()[index]\n",
        "  authors.append(author)\n",
        "  # extract book title \n",
        "  title = dataset['book'].tolist()[index]\n",
        "  titles.append(title)\n",
        "  # topics \n",
        "  topics.append(topics_book)\n",
        "\n",
        "df_columns = ['author', 'book', 'topics']\n",
        "dataframe = pd.DataFrame(columns = df_columns)\n",
        "dataframe['author'] = authors\n",
        "dataframe['book'] = titles\n",
        "dataframe['topics'] = topics\n",
        "\n",
        "# creating a dataset \n",
        "dataframe.to_csv('topics_dialogues.csv')"
      ],
      "metadata": {
        "id": "uCSD-boAdjpd"
      },
      "execution_count": null,
      "outputs": []
    }
  ]
}